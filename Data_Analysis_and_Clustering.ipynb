
# Data Analysis and Clustering

## Introduction
This notebook performs Principal Component Analysis (PCA) and K-Means clustering on a combined dataset from multiple CSV files.

## Data Loading
The data is loaded from four CSV files and combined into a single DataFrame.

```python
import pandas as pd
file_paths = ['./0.csv', './1.csv', './2.csv', './3.csv']
combined_df = pd.concat([pd.read_csv(file) for file in file_paths], axis=1)
```

## Principal Component Analysis (PCA)
PCA is performed to reduce the dimensionality of the data and visualize the first two principal components.

```python
from sklearn.decomposition import PCA
from sklearn.preprocessing import StandardScaler

# Handle missing values
combined_df.fillna(combined_df.mean(), inplace=True)

# Standardize the data
scaler = StandardScaler()
scaled_data = scaler.fit_transform(combined_df)

# Perform PCA
pca = PCA(n_components=2)
principal_components = pca.fit_transform(scaled_data)

# Create a DataFrame with the principal components
pca_df = pd.DataFrame(data=principal_components, columns=['PC1', 'PC2'])
```

## K-Means Clustering
K-Means clustering is applied to the principal components to identify clusters within the data.

```python
from sklearn.cluster import KMeans

# Perform K-Means clustering
kmeans = KMeans(n_clusters=3, random_state=42)
clusters = kmeans.fit_predict(pca_df)

# Add cluster labels to the DataFrame
pca_df['Cluster'] = clusters
```

## Visualization
The clusters are visualized using a scatter plot of the first two principal components.

```python
import plotly.express as px

# Plot the clusters
fig = px.scatter(pca_df, x='PC1', y='PC2', color='Cluster', title='K-Means Clustering on PCA Components')
fig.show()
```

## Conclusion
The analysis reveals distinct clusters within the data, indicating underlying patterns and structures.
